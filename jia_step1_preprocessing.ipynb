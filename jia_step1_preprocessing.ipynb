{
 "cells": [
  {
   "cell_type": "code",
   "execution_count": 5,
   "metadata": {},
   "outputs": [
    {
     "name": "stdout",
     "output_type": "stream",
     "text": [
      "The autoreload extension is already loaded. To reload it, use:\n",
      "  %reload_ext autoreload\n"
     ]
    }
   ],
   "source": [
    "%load_ext autoreload\n",
    "%autoreload 2\n",
    "\n",
    "import numpy as np\n",
    "import pandas as pd \n",
    "from pathlib import Path\n",
    "\n",
    "import matplotlib.pyplot as plt\n",
    "from scipy.stats import chi2\n",
    "import statsmodels.discrete.discrete_model as dm_\n",
    "\n",
    "%matplotlib inline\n"
   ]
  },
  {
   "cell_type": "code",
   "execution_count": 9,
   "metadata": {},
   "outputs": [],
   "source": [
    "data_path = '../data/home-credit-default-risk/'"
   ]
  },
  {
   "cell_type": "code",
   "execution_count": 10,
   "metadata": {},
   "outputs": [],
   "source": [
    "def load_data(path):\n",
    "    credit_card_balance = pd.read_csv(Path(path, 'credit_card_balance.csv'))\n",
    "    installment_payments = pd.read_csv(Path(path, 'installments_payments.csv'))\n",
    "    pos_cash_balance = pd.read_csv(Path(path, 'POS_CASH_balance.csv'))\n",
    "    previous_application = pd.read_csv(Path(path, 'previous_application.csv'))\n",
    "    return credit_card_balance, installment_payments, pos_cash_balance, previous_application"
   ]
  },
  {
   "cell_type": "code",
   "execution_count": 11,
   "metadata": {},
   "outputs": [],
   "source": [
    "credit_card_balance = pd.read_csv(Path(data_path, 'credit_card_balance.csv'))\n"
   ]
  },
  {
   "cell_type": "code",
   "execution_count": 12,
   "metadata": {},
   "outputs": [
    {
     "name": "stdout",
     "output_type": "stream",
     "text": [
      "2047409   -6827.31\n",
      "Name: AMT_DRAWINGS_ATM_CURRENT, dtype: float64\n",
      "438776    -1687.50\n",
      "747302     -519.57\n",
      "3284667   -6211.62\n",
      "Name: AMT_DRAWINGS_CURRENT, dtype: float64\n",
      "45        NaN\n",
      "47        NaN\n",
      "49        NaN\n",
      "52        NaN\n",
      "60        NaN\n",
      "           ..\n",
      "3840272   NaN\n",
      "3840303   NaN\n",
      "3840306   NaN\n",
      "3840307   NaN\n",
      "3840310   NaN\n",
      "Name: CNT_DRAWINGS_ATM_CURRENT, Length: 749816, dtype: float64\n"
     ]
    }
   ],
   "source": [
    "print(credit_card_balance['AMT_DRAWINGS_ATM_CURRENT'][credit_card_balance['AMT_DRAWINGS_ATM_CURRENT'] < 0])\n",
    "print(credit_card_balance['AMT_DRAWINGS_CURRENT'][credit_card_balance['AMT_DRAWINGS_CURRENT'] < 0])\n",
    "print(credit_card_balance['CNT_DRAWINGS_ATM_CURRENT'][credit_card_balance['CNT_DRAWINGS_ATM_CURRENT'].isna()])"
   ]
  },
  {
   "cell_type": "code",
   "execution_count": 13,
   "metadata": {},
   "outputs": [],
   "source": [
    "def credit_card_cleaning(df, **kwargs):\n",
    "    fill_missing = kwargs.get('fill_missing', False)\n",
    "    fill_value = kwargs.get('fill_value', 0)\n",
    "    \n",
    "    df['AMT_DRAWINGS_ATM_CURRENT'][df['AMT_DRAWINGS_ATM_CURRENT'] < 0] = np.nan\n",
    "    df['AMT_DRAWINGS_CURRENT'][df['AMT_DRAWINGS_CURRENT'] < 0] = np.nan\n",
    "\n",
    "    if fill_missing:\n",
    "        df.fillna(fill_value, inplace=True)\n",
    "    \n",
    "    return df"
   ]
  },
  {
   "cell_type": "code",
   "execution_count": 14,
   "metadata": {},
   "outputs": [
    {
     "name": "stderr",
     "output_type": "stream",
     "text": [
      "/opt/anaconda3/lib/python3.7/site-packages/ipykernel_launcher.py:5: SettingWithCopyWarning: \n",
      "A value is trying to be set on a copy of a slice from a DataFrame\n",
      "\n",
      "See the caveats in the documentation: https://pandas.pydata.org/pandas-docs/stable/user_guide/indexing.html#returning-a-view-versus-a-copy\n",
      "  \"\"\"\n",
      "/opt/anaconda3/lib/python3.7/site-packages/ipykernel_launcher.py:6: SettingWithCopyWarning: \n",
      "A value is trying to be set on a copy of a slice from a DataFrame\n",
      "\n",
      "See the caveats in the documentation: https://pandas.pydata.org/pandas-docs/stable/user_guide/indexing.html#returning-a-view-versus-a-copy\n",
      "  \n"
     ]
    }
   ],
   "source": [
    "credit_card_test = credit_card_balance.copy()\n",
    "credit_card_cleaned = credit_card_cleaning(credit_card_test, fill_missing=True, fill_value=-1)"
   ]
  },
  {
   "cell_type": "code",
   "execution_count": 15,
   "metadata": {},
   "outputs": [
    {
     "name": "stdout",
     "output_type": "stream",
     "text": [
      "45        -1.0\n",
      "47        -1.0\n",
      "49        -1.0\n",
      "52        -1.0\n",
      "60        -1.0\n",
      "          ... \n",
      "3840272   -1.0\n",
      "3840303   -1.0\n",
      "3840306   -1.0\n",
      "3840307   -1.0\n",
      "3840310   -1.0\n",
      "Name: AMT_DRAWINGS_ATM_CURRENT, Length: 749817, dtype: float64\n",
      "438776    -1.0\n",
      "747302    -1.0\n",
      "3284667   -1.0\n",
      "Name: AMT_DRAWINGS_CURRENT, dtype: float64\n",
      "Series([], Name: CNT_DRAWINGS_ATM_CURRENT, dtype: float64)\n"
     ]
    }
   ],
   "source": [
    "print(credit_card_cleaned['AMT_DRAWINGS_ATM_CURRENT'][credit_card_cleaned['AMT_DRAWINGS_ATM_CURRENT'] < 0])\n",
    "print(credit_card_cleaned['AMT_DRAWINGS_CURRENT'][credit_card_cleaned['AMT_DRAWINGS_CURRENT'] < 0])\n",
    "print(credit_card_cleaned['CNT_DRAWINGS_ATM_CURRENT'][credit_card_cleaned['CNT_DRAWINGS_ATM_CURRENT'].isna()])"
   ]
  },
  {
   "cell_type": "code",
   "execution_count": 64,
   "metadata": {},
   "outputs": [],
   "source": [
    "installment_payments = pd.read_csv(Path(data_path, 'installments_payments.csv'))"
   ]
  },
  {
   "cell_type": "code",
   "execution_count": 76,
   "metadata": {},
   "outputs": [
    {
     "name": "stdout",
     "output_type": "stream",
     "text": [
      "3764207    NaN\n",
      "3764208    NaN\n",
      "3764209    NaN\n",
      "3764210    NaN\n",
      "3764211    NaN\n",
      "            ..\n",
      "13605396   NaN\n",
      "13605397   NaN\n",
      "13605398   NaN\n",
      "13605399   NaN\n",
      "13605400   NaN\n",
      "Name: DAYS_ENTRY_PAYMENT, Length: 2905, dtype: float64\n"
     ]
    }
   ],
   "source": [
    "print(installment_payments['DAYS_ENTRY_PAYMENT'][installment_payments['DAYS_ENTRY_PAYMENT'].isna()])\n"
   ]
  },
  {
   "cell_type": "code",
   "execution_count": 68,
   "metadata": {},
   "outputs": [],
   "source": [
    "def installment_payment_cleaning(df, **kwargs):\n",
    "    fill_missing = kwargs.get('fill_missing', False)\n",
    "    fill_value = kwargs.get('fill_value', 0)\n",
    "\n",
    "    if fill_missing:\n",
    "        df.fillna(fill_value, inplace=True)\n",
    "\n",
    "    return df"
   ]
  },
  {
   "cell_type": "code",
   "execution_count": 85,
   "metadata": {},
   "outputs": [
    {
     "name": "stdout",
     "output_type": "stream",
     "text": [
      "Series([], Name: DAYS_ENTRY_PAYMENT, dtype: float64)\n",
      "3764207    -1.0\n",
      "3764208    -1.0\n",
      "3764209    -1.0\n",
      "3764210    -1.0\n",
      "3764211    -1.0\n",
      "           ... \n",
      "13605396   -1.0\n",
      "13605397   -1.0\n",
      "13605398   -1.0\n",
      "13605399   -1.0\n",
      "13605400   -1.0\n",
      "Name: DAYS_ENTRY_PAYMENT, Length: 2907, dtype: float64\n"
     ]
    }
   ],
   "source": [
    "installment_payments_test = installment_payments.copy()\n",
    "installment_payments_cleaned = installment_payment_cleaning(installment_payments_test, fill_missing=True, fill_value=-1)\n",
    "print(installment_payments_cleaned['DAYS_ENTRY_PAYMENT'][installment_payments_cleaned['DAYS_ENTRY_PAYMENT'].isna()])\n",
    "print(installment_payments_cleaned['DAYS_ENTRY_PAYMENT'][installment_payments_cleaned['DAYS_ENTRY_PAYMENT'] == -1])\n"
   ]
  },
  {
   "cell_type": "code",
   "execution_count": 78,
   "metadata": {},
   "outputs": [],
   "source": [
    "pos_cash_balance = pd.read_csv(Path(data_path, 'POS_CASH_balance.csv'))"
   ]
  },
  {
   "cell_type": "code",
   "execution_count": 81,
   "metadata": {},
   "outputs": [
    {
     "name": "stdout",
     "output_type": "stream",
     "text": [
      "709       NaN\n",
      "759       NaN\n",
      "1887      NaN\n",
      "1899      NaN\n",
      "1910      NaN\n",
      "           ..\n",
      "9998668   NaN\n",
      "9998696   NaN\n",
      "9999114   NaN\n",
      "9999116   NaN\n",
      "9999511   NaN\n",
      "Name: CNT_INSTALMENT, Length: 26071, dtype: float64\n"
     ]
    }
   ],
   "source": [
    "print(pos_cash_balance['CNT_INSTALMENT'][pos_cash_balance['CNT_INSTALMENT'].isna()])\n"
   ]
  },
  {
   "cell_type": "code",
   "execution_count": 82,
   "metadata": {},
   "outputs": [],
   "source": [
    "def pos_cash_cleaning(df, **kwargs):\n",
    "    fill_missing = kwargs.get('fill_missing', False)\n",
    "    fill_value = kwargs.get('fill_value', 0)\n",
    "\n",
    "    if fill_missing:\n",
    "        df.fillna(fill_value, inplace=True)\n",
    "\n",
    "    return df"
   ]
  },
  {
   "cell_type": "code",
   "execution_count": 84,
   "metadata": {},
   "outputs": [
    {
     "name": "stdout",
     "output_type": "stream",
     "text": [
      "Series([], Name: CNT_INSTALMENT, dtype: float64)\n",
      "709       -1.0\n",
      "759       -1.0\n",
      "1887      -1.0\n",
      "1899      -1.0\n",
      "1910      -1.0\n",
      "          ... \n",
      "9998668   -1.0\n",
      "9998696   -1.0\n",
      "9999114   -1.0\n",
      "9999116   -1.0\n",
      "9999511   -1.0\n",
      "Name: CNT_INSTALMENT, Length: 26071, dtype: float64\n"
     ]
    }
   ],
   "source": [
    "pos_cash_balance_test = pos_cash_balance.copy()\n",
    "pos_cash_balance_cleaned = pos_cash_cleaning(pos_cash_balance_test, fill_missing=True, fill_value=-1)\n",
    "print(pos_cash_balance_cleaned['CNT_INSTALMENT'][pos_cash_balance_cleaned['CNT_INSTALMENT'].isna()])\n",
    "print(pos_cash_balance_cleaned['CNT_INSTALMENT'][pos_cash_balance_cleaned['CNT_INSTALMENT'] == -1])\n"
   ]
  },
  {
   "cell_type": "code",
   "execution_count": 96,
   "metadata": {},
   "outputs": [],
   "source": [
    "previous_application = pd.read_csv(Path(data_path, 'previous_application.csv'))"
   ]
  },
  {
   "cell_type": "code",
   "execution_count": 97,
   "metadata": {},
   "outputs": [
    {
     "name": "stdout",
     "output_type": "stream",
     "text": [
      "0          365243.0\n",
      "1          365243.0\n",
      "2          365243.0\n",
      "3          365243.0\n",
      "5          365243.0\n",
      "             ...   \n",
      "1670209    365243.0\n",
      "1670210    365243.0\n",
      "1670211    365243.0\n",
      "1670212    365243.0\n",
      "1670213    365243.0\n",
      "Name: DAYS_FIRST_DRAWING, Length: 934444, dtype: float64\n",
      "4         NaN\n",
      "6         NaN\n",
      "7         NaN\n",
      "8         NaN\n",
      "9         NaN\n",
      "           ..\n",
      "1670197   NaN\n",
      "1670203   NaN\n",
      "1670204   NaN\n",
      "1670205   NaN\n",
      "1670207   NaN\n",
      "Name: DAYS_FIRST_DRAWING, Length: 673065, dtype: float64\n"
     ]
    }
   ],
   "source": [
    "print(previous_application['DAYS_FIRST_DRAWING'][previous_application['DAYS_FIRST_DRAWING'] == 365243])\n",
    "print(previous_application['DAYS_FIRST_DRAWING'][previous_application['DAYS_FIRST_DRAWING'].isna()])\n",
    "\n",
    "# print(previous_application['AMT_DRAWINGS_CURRENT'][previous_application['AMT_DRAWINGS_CURRENT'] < 0])\n",
    "# print(previous_application['CNT_DRAWINGS_ATM_CURRENT'][previous_application['CNT_DRAWINGS_ATM_CURRENT'].isna()])"
   ]
  },
  {
   "cell_type": "code",
   "execution_count": 100,
   "metadata": {},
   "outputs": [],
   "source": [
    "def prev_application_cleaning(df, **kwargs):\n",
    "    fill_missing = kwargs.get('fill_missing', False)\n",
    "    fill_value = kwargs.get('fill_value', 0)\n",
    "\n",
    "    df['DAYS_FIRST_DRAWING'].replace(365243, np.nan, inplace=True)\n",
    "    df['DAYS_FIRST_DUE'].replace(365243, np.nan, inplace=True)\n",
    "    df['DAYS_LAST_DUE_1ST_VERSION'].replace(365243, np.nan, inplace=True)\n",
    "    df['DAYS_LAST_DUE'].replace(365243, np.nan, inplace=True)\n",
    "    df['DAYS_TERMINATION'].replace(365243, np.nan, inplace=True)\n",
    "\n",
    "    if fill_missing:\n",
    "        df.fillna(fill_value, inplace=True)\n",
    "\n",
    "    return df"
   ]
  },
  {
   "cell_type": "code",
   "execution_count": 103,
   "metadata": {},
   "outputs": [
    {
     "name": "stdout",
     "output_type": "stream",
     "text": [
      "Series([], Name: DAYS_FIRST_DRAWING, dtype: float64)\n",
      "Series([], Name: DAYS_FIRST_DRAWING, dtype: float64)\n",
      "0         -1.0\n",
      "1         -1.0\n",
      "2         -1.0\n",
      "3         -1.0\n",
      "4         -1.0\n",
      "          ... \n",
      "1670209   -1.0\n",
      "1670210   -1.0\n",
      "1670211   -1.0\n",
      "1670212   -1.0\n",
      "1670213   -1.0\n",
      "Name: DAYS_FIRST_DRAWING, Length: 1607509, dtype: float64\n"
     ]
    }
   ],
   "source": [
    "previous_application_test = previous_application.copy()\n",
    "previous_application_cleaned = prev_application_cleaning(previous_application_test, fill_missing=True, fill_value=-1)\n",
    "print(previous_application_cleaned['DAYS_FIRST_DRAWING'][previous_application_cleaned['DAYS_FIRST_DRAWING'] == 365243])\n",
    "print(previous_application_cleaned['DAYS_FIRST_DRAWING'][previous_application_cleaned['DAYS_FIRST_DRAWING'].isna()])\n",
    "print(previous_application_cleaned['DAYS_FIRST_DRAWING'][previous_application_cleaned['DAYS_FIRST_DRAWING'] == -1])\n"
   ]
  },
  {
   "cell_type": "code",
   "execution_count": null,
   "metadata": {},
   "outputs": [],
   "source": []
  }
 ],
 "metadata": {
  "kernelspec": {
   "display_name": "Python 3",
   "language": "python",
   "name": "python3"
  },
  "language_info": {
   "codemirror_mode": {
    "name": "ipython",
    "version": 3
   },
   "file_extension": ".py",
   "mimetype": "text/x-python",
   "name": "python",
   "nbconvert_exporter": "python",
   "pygments_lexer": "ipython3",
   "version": "3.6.9"
  }
 },
 "nbformat": 4,
 "nbformat_minor": 4
}
