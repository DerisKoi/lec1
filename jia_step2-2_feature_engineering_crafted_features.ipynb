{
 "cells": [
  {
   "cell_type": "code",
   "execution_count": 1,
   "metadata": {},
   "outputs": [],
   "source": [
    "%load_ext autoreload\n",
    "%autoreload 2\n",
    "\n",
    "import numpy as np\n",
    "import pandas as pd \n",
    "import matplotlib.pyplot as plt\n",
    "from scipy.stats import chi2\n",
    "import statsmodels.discrete.discrete_model as dm_\n",
    "\n",
    "pd.set_option('display.max_rows', 500)\n",
    "pd.set_option('display.max_columns', 500)\n",
    "pd.set_option('display.width', 1000)\n",
    "\n",
    "%matplotlib inline\n",
    "\n",
    "from preprocessor import *\n",
    "from feature_engineering import *\n",
    "\n",
    "import toad"
   ]
  },
  {
   "cell_type": "code",
   "execution_count": 2,
   "metadata": {},
   "outputs": [],
   "source": [
    "data_path = '../../data/home-credit-default-risk/'\n",
    "application_train_ft = pd.read_csv(data_path + 'application_train_processed.csv')\n",
    "bureau_ft = pd.read_csv(data_path + 'bureau_preprocessed.csv')\n",
    "bureau_balance_ft = pd.read_csv(data_path + 'bureau_balance_preprocessed.csv')\n",
    "credit_card_ft = pd.read_csv(data_path + 'credit_card_balance_preprocessed.csv')\n",
    "installment_ft = pd.read_csv(data_path + 'installment_payments_preprocessed.csv')\n",
    "pos_card_ft = pd.read_csv(data_path + 'pos_cash_balance_preprocessed.csv')\n",
    "prev_application_ft = pd.read_csv(data_path + 'previous_application_preprocessed.csv')\n"
   ]
  },
  {
   "cell_type": "markdown",
   "metadata": {},
   "source": [
    "# Application features"
   ]
  },
  {
   "cell_type": "code",
   "execution_count": 3,
   "metadata": {},
   "outputs": [],
   "source": [
    "application_train_ft['DAYS_EMPLOYED_PERC'] = application_train_ft['DAYS_EMPLOYED'] / application_train_ft['DAYS_BIRTH']\n",
    "application_train_ft['INCOME_CREDIT_PERC'] = application_train_ft['AMT_INCOME_TOTAL'] / application_train_ft['AMT_CREDIT']\n",
    "application_train_ft['INCOME_PER_PERSON'] = application_train_ft['AMT_INCOME_TOTAL'] / application_train_ft['CNT_FAM_MEMBERS']\n",
    "application_train_ft['ANNUITY_INCOME_PERC'] = application_train_ft['AMT_ANNUITY'] / application_train_ft['AMT_INCOME_TOTAL']\n",
    "application_train_ft['PAYMENT_RATE'] = application_train_ft['AMT_ANNUITY'] / application_train_ft['AMT_CREDIT']"
   ]
  },
  {
   "cell_type": "markdown",
   "metadata": {},
   "source": [
    "## Following create two features: id_renewal_days_delay, income_per_person"
   ]
  },
  {
   "cell_type": "code",
   "execution_count": 4,
   "metadata": {},
   "outputs": [],
   "source": [
    "application_train_ft, new_application_fts = fe_application(application_train_ft)"
   ]
  },
  {
   "cell_type": "code",
   "execution_count": 5,
   "metadata": {},
   "outputs": [],
   "source": [
    "df_ft = application_train_ft"
   ]
  },
  {
   "cell_type": "markdown",
   "metadata": {},
   "source": [
    "# Bureau features"
   ]
  },
  {
   "cell_type": "code",
   "execution_count": 6,
   "metadata": {},
   "outputs": [],
   "source": [
    "bureau_avg = bureau_ft.groupby('SK_ID_CURR').mean()\n",
    "bureau_avg['buro_count'] = bureau_ft[['SK_ID_BUREAU','SK_ID_CURR']].groupby('SK_ID_CURR').count()['SK_ID_BUREAU']\n",
    "bureau_avg.columns = ['b_' + f_ for f_ in bureau_avg.columns]\n",
    "df_ft = df_ft.merge(right=bureau_avg.reset_index(), how='left', on='SK_ID_CURR')\n"
   ]
  },
  {
   "cell_type": "markdown",
   "metadata": {},
   "source": [
    "## Following create two features: bureau_debt_credit_ratio, bureau_average_of_past_loans_per_type"
   ]
  },
  {
   "cell_type": "code",
   "execution_count": 7,
   "metadata": {},
   "outputs": [],
   "source": [
    "bureau_new_ft, new_bureau_fts = fe_bureau(bureau_ft)\n",
    "df_ft = df_ft.merge(right=bureau_new_ft[new_bureau_fts + ['SK_ID_CURR']], how='left', on='SK_ID_CURR')"
   ]
  },
  {
   "cell_type": "markdown",
   "metadata": {},
   "source": [
    "# Credit card features"
   ]
  },
  {
   "cell_type": "code",
   "execution_count": 8,
   "metadata": {},
   "outputs": [],
   "source": [
    "nb_prevs = credit_card_ft[['SK_ID_CURR', 'SK_ID_PREV']].groupby('SK_ID_CURR').count()\n",
    "credit_card_ft['SK_ID_PREV'] = credit_card_ft['SK_ID_CURR'].map(nb_prevs['SK_ID_PREV'])\n",
    "\n",
    "### average of all other columns \n",
    "avg_cc_bal = credit_card_ft.groupby('SK_ID_CURR').mean()\n",
    "avg_cc_bal.columns = ['cc_bal_' + f_ for f_ in avg_cc_bal.columns]\n",
    "df_ft = df_ft.merge(right=avg_cc_bal.reset_index(), how='left', on='SK_ID_CURR')"
   ]
  },
  {
   "cell_type": "markdown",
   "metadata": {},
   "source": [
    "## Following create features: credit_card_total_installments, credit_card_number_of_loans, credit_card_installments_per_loan, credit_card_drawings_atm, credit_card_drawings_total, credit_card_cash_card_ratio, credit_card_monthly_diff"
   ]
  },
  {
   "cell_type": "code",
   "execution_count": 9,
   "metadata": {},
   "outputs": [],
   "source": [
    "credti_card_new_ft, new_credit_fts = fe_credit_card(credit_card_ft)\n",
    "df_ft = df_ft.merge(right=credti_card_new_ft[new_credit_fts + ['SK_ID_CURR']], how='left', on='SK_ID_CURR')"
   ]
  },
  {
   "cell_type": "markdown",
   "metadata": {},
   "source": [
    "# POS cash features"
   ]
  },
  {
   "cell_type": "code",
   "execution_count": 10,
   "metadata": {},
   "outputs": [],
   "source": [
    "pos_count = pos_card_ft[['SK_ID_CURR', 'SK_ID_PREV']].groupby('SK_ID_CURR').count()\n",
    "pos_card_ft['SK_ID_PREV'] = pos_card_ft['SK_ID_CURR'].map(pos_count['SK_ID_PREV'])\n",
    "\n",
    "## Average Values for all other variables in pos cash\n",
    "pos_avg = pos_card_ft.groupby('SK_ID_CURR').mean()\n",
    "df_ft = df_ft.merge(right=pos_avg.reset_index(), how='left', on='SK_ID_CURR')"
   ]
  },
  {
   "cell_type": "markdown",
   "metadata": {},
   "source": [
    "## Following create features: pos_cash_paid_late_12month_cnt, SK_DPD_12month_sum, pos_cash_paid_late_last_cnt', SK_DPD_last_sum"
   ]
  },
  {
   "cell_type": "code",
   "execution_count": 11,
   "metadata": {},
   "outputs": [],
   "source": [
    "pos_card_new_ft, new_pos_fts = fe_pos_cash(pos_card_ft, period=12)\n",
    "df_ft = df_ft.merge(right=pos_card_new_ft[new_pos_fts + ['SK_ID_CURR']], how='left', on='SK_ID_CURR')"
   ]
  },
  {
   "cell_type": "markdown",
   "metadata": {},
   "source": [
    "# Installment features"
   ]
  },
  {
   "cell_type": "code",
   "execution_count": 12,
   "metadata": {},
   "outputs": [],
   "source": [
    "# Days past due and days before due (no negative values)\n",
    "installment_ft['DPD'] = installment_ft['DAYS_ENTRY_PAYMENT'] - installment_ft['DAYS_INSTALMENT']\n",
    "installment_ft['DBD'] = installment_ft['DAYS_INSTALMENT'] - installment_ft['DAYS_ENTRY_PAYMENT']\n",
    "installment_ft['DPD'] = installment_ft['DPD'].apply(lambda x: x if x > 0 else 0)\n",
    "installment_ft['DBD'] = installment_ft['DBD'].apply(lambda x: x if x > 0 else 0)"
   ]
  },
  {
   "cell_type": "code",
   "execution_count": 13,
   "metadata": {},
   "outputs": [],
   "source": [
    "cnt_inst = installment_ft[['SK_ID_CURR', 'SK_ID_PREV']].groupby('SK_ID_CURR').count()\n",
    "installment_ft['SK_ID_PREV'] = installment_ft['SK_ID_CURR'].map(cnt_inst['SK_ID_PREV'])\n",
    "\n",
    "## Average values for all other variables in installments payments\n",
    "avg_inst = installment_ft.groupby('SK_ID_CURR').mean()\n",
    "avg_inst.columns = ['i_' + f_ for f_ in avg_inst.columns]\n",
    "df_ft = df_ft.merge(right=avg_inst.reset_index(), how='left', on='SK_ID_CURR')"
   ]
  },
  {
   "cell_type": "markdown",
   "metadata": {},
   "source": [
    "## Following create features: installment_paid_late_30day_cnt, installment_paid_late_30day_sum, installment_paid_over_30day_cnt, installment_paid_over_30day_sum"
   ]
  },
  {
   "cell_type": "code",
   "execution_count": 14,
   "metadata": {},
   "outputs": [],
   "source": [
    "installment_new_ft, new_installment_fts = fe_install(installment_ft, period=30)\n",
    "df_ft = df_ft.merge(right=installment_new_ft[new_installment_fts + ['SK_ID_CURR']], how='left', on='SK_ID_CURR')"
   ]
  },
  {
   "cell_type": "markdown",
   "metadata": {},
   "source": [
    "# Prev applicaiton features"
   ]
  },
  {
   "cell_type": "code",
   "execution_count": 15,
   "metadata": {},
   "outputs": [],
   "source": [
    "prev_apps_count = prev_application_ft[['SK_ID_CURR', 'SK_ID_PREV']].groupby('SK_ID_CURR').count()\n",
    "prev_application_ft['SK_ID_PREV'] = prev_application_ft['SK_ID_CURR'].map(prev_apps_count['SK_ID_PREV'])\n",
    "\n",
    "## Average values for all other features in previous applications\n",
    "prev_apps_avg = prev_application_ft.groupby('SK_ID_CURR').mean()\n",
    "prev_apps_avg.columns = ['p_' + col for col in prev_apps_avg.columns]\n",
    "df_ft = df_ft.merge(right=prev_apps_avg.reset_index(), how='left', on='SK_ID_CURR')"
   ]
  },
  {
   "cell_type": "code",
   "execution_count": null,
   "metadata": {},
   "outputs": [],
   "source": []
  },
  {
   "cell_type": "code",
   "execution_count": 20,
   "metadata": {},
   "outputs": [],
   "source": [
    "df_ft.to_pickle(data_path + 'features.pkl')"
   ]
  },
  {
   "cell_type": "code",
   "execution_count": 18,
   "metadata": {},
   "outputs": [],
   "source": [
    "from sklearn.model_selection import train_test_split\n",
    "\n",
    "train, test = train_test_split(df_ft, test_size=0.3)"
   ]
  },
  {
   "cell_type": "code",
   "execution_count": 19,
   "metadata": {},
   "outputs": [
    {
     "name": "stderr",
     "output_type": "stream",
     "text": [
      "/opt/anaconda3/lib/python3.7/site-packages/toad/selection.py:332: RuntimeWarning: invalid value encountered in greater\n",
      "  ix, cn = np.where(np.triu(corr.values, 1) > threshold)\n"
     ]
    }
   ],
   "source": [
    "train_selected, dropped = toad.selection.select(train, target = 'TARGET', empty = 0.5, iv = 0.02, corr = 0.7, return_drop=True, exclude=['SK_ID_CURR'])"
   ]
  },
  {
   "cell_type": "code",
   "execution_count": null,
   "metadata": {},
   "outputs": [],
   "source": []
  }
 ],
 "metadata": {
  "kernelspec": {
   "display_name": "Python 3",
   "language": "python",
   "name": "python3"
  },
  "language_info": {
   "codemirror_mode": {
    "name": "ipython",
    "version": 3
   },
   "file_extension": ".py",
   "mimetype": "text/x-python",
   "name": "python",
   "nbconvert_exporter": "python",
   "pygments_lexer": "ipython3",
   "version": "3.7.6"
  }
 },
 "nbformat": 4,
 "nbformat_minor": 4
}
