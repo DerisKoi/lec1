{
 "cells": [
  {
   "cell_type": "code",
   "execution_count": 5,
   "metadata": {},
   "outputs": [
    {
     "name": "stdout",
     "output_type": "stream",
     "text": [
      "The autoreload extension is already loaded. To reload it, use:\n",
      "  %reload_ext autoreload\n"
     ]
    }
   ],
   "source": []
  },
  {
   "cell_type": "code",
   "execution_count": 2,
   "metadata": {},
   "outputs": [
    {
     "name": "stdout",
     "output_type": "stream",
     "text": [
      "The autoreload extension is already loaded. To reload it, use:\n",
      "  %reload_ext autoreload\n"
     ]
    }
   ],
   "source": [
    "%load_ext autoreload\n",
    "%autoreload 2\n",
    "\n",
    "import sys\n",
    "import os\n",
    "import numpy as np\n",
    "import pandas as pd \n",
    "import matplotlib.pyplot as plt\n",
    "from scipy.stats import chi2\n",
    "import statsmodels.discrete.discrete_model as dm_\n",
    "from sklearn.model_selection import train_test_split\n",
    "\n",
    "pd.set_option('display.max_rows', 500)\n",
    "pd.set_option('display.max_columns', 500)\n",
    "pd.set_option('display.width', 1000)\n",
    "\n",
    "sys.path.insert(0, os.path.abspath('../'))\n",
    "\n",
    "%matplotlib inline\n",
    "\n",
    "from lec1.preprocessor import *\n",
    "from lec1.feature_engineering import *\n",
    "\n",
    "import toad"
   ]
  },
  {
   "cell_type": "code",
   "execution_count": 3,
   "metadata": {},
   "outputs": [
    {
     "ename": "FileNotFoundError",
     "evalue": "[Errno 2] No such file or directory: '/Users/ruofei.ouyang/workspace/services/fal-model-v2/lec1/home-credit-default-risk/features.pkl'",
     "output_type": "error",
     "traceback": [
      "\u001b[0;31m---------------------------------------------------------------------------\u001b[0m",
      "\u001b[0;31mFileNotFoundError\u001b[0m                         Traceback (most recent call last)",
      "\u001b[0;32m<ipython-input-3-2edc3b7c9529>\u001b[0m in \u001b[0;36m<module>\u001b[0;34m\u001b[0m\n\u001b[1;32m      1\u001b[0m \u001b[0mdata_path\u001b[0m \u001b[0;34m=\u001b[0m \u001b[0;34mf\"{os.path.abspath('.')}/home-credit-default-risk/\"\u001b[0m\u001b[0;34m\u001b[0m\u001b[0;34m\u001b[0m\u001b[0m\n\u001b[1;32m      2\u001b[0m \u001b[0;34m\u001b[0m\u001b[0m\n\u001b[0;32m----> 3\u001b[0;31m \u001b[0mdf_ft\u001b[0m \u001b[0;34m=\u001b[0m \u001b[0mpd\u001b[0m\u001b[0;34m.\u001b[0m\u001b[0mread_pickle\u001b[0m\u001b[0;34m(\u001b[0m\u001b[0mdata_path\u001b[0m \u001b[0;34m+\u001b[0m \u001b[0;34m'features.pkl'\u001b[0m\u001b[0;34m)\u001b[0m\u001b[0;34m\u001b[0m\u001b[0;34m\u001b[0m\u001b[0m\n\u001b[0m",
      "\u001b[0;32m~/workspace/app/anaconda3/lib/python3.6/site-packages/pandas/io/pickle.py\u001b[0m in \u001b[0;36mread_pickle\u001b[0;34m(path, compression)\u001b[0m\n\u001b[1;32m    143\u001b[0m     \"\"\"\n\u001b[1;32m    144\u001b[0m     \u001b[0mpath\u001b[0m \u001b[0;34m=\u001b[0m \u001b[0m_stringify_path\u001b[0m\u001b[0;34m(\u001b[0m\u001b[0mpath\u001b[0m\u001b[0;34m)\u001b[0m\u001b[0;34m\u001b[0m\u001b[0;34m\u001b[0m\u001b[0m\n\u001b[0;32m--> 145\u001b[0;31m     \u001b[0mf\u001b[0m\u001b[0;34m,\u001b[0m \u001b[0mfh\u001b[0m \u001b[0;34m=\u001b[0m \u001b[0m_get_handle\u001b[0m\u001b[0;34m(\u001b[0m\u001b[0mpath\u001b[0m\u001b[0;34m,\u001b[0m \u001b[0;34m\"rb\"\u001b[0m\u001b[0;34m,\u001b[0m \u001b[0mcompression\u001b[0m\u001b[0;34m=\u001b[0m\u001b[0mcompression\u001b[0m\u001b[0;34m,\u001b[0m \u001b[0mis_text\u001b[0m\u001b[0;34m=\u001b[0m\u001b[0;32mFalse\u001b[0m\u001b[0;34m)\u001b[0m\u001b[0;34m\u001b[0m\u001b[0;34m\u001b[0m\u001b[0m\n\u001b[0m\u001b[1;32m    146\u001b[0m \u001b[0;34m\u001b[0m\u001b[0m\n\u001b[1;32m    147\u001b[0m     \u001b[0;31m# 1) try standard libary Pickle\u001b[0m\u001b[0;34m\u001b[0m\u001b[0;34m\u001b[0m\u001b[0;34m\u001b[0m\u001b[0m\n",
      "\u001b[0;32m~/workspace/app/anaconda3/lib/python3.6/site-packages/pandas/io/common.py\u001b[0m in \u001b[0;36m_get_handle\u001b[0;34m(path_or_buf, mode, encoding, compression, memory_map, is_text)\u001b[0m\n\u001b[1;32m    403\u001b[0m         \u001b[0;32melse\u001b[0m\u001b[0;34m:\u001b[0m\u001b[0;34m\u001b[0m\u001b[0;34m\u001b[0m\u001b[0m\n\u001b[1;32m    404\u001b[0m             \u001b[0;31m# Binary mode\u001b[0m\u001b[0;34m\u001b[0m\u001b[0;34m\u001b[0m\u001b[0;34m\u001b[0m\u001b[0m\n\u001b[0;32m--> 405\u001b[0;31m             \u001b[0mf\u001b[0m \u001b[0;34m=\u001b[0m \u001b[0mopen\u001b[0m\u001b[0;34m(\u001b[0m\u001b[0mpath_or_buf\u001b[0m\u001b[0;34m,\u001b[0m \u001b[0mmode\u001b[0m\u001b[0;34m)\u001b[0m\u001b[0;34m\u001b[0m\u001b[0;34m\u001b[0m\u001b[0m\n\u001b[0m\u001b[1;32m    406\u001b[0m         \u001b[0mhandles\u001b[0m\u001b[0;34m.\u001b[0m\u001b[0mappend\u001b[0m\u001b[0;34m(\u001b[0m\u001b[0mf\u001b[0m\u001b[0;34m)\u001b[0m\u001b[0;34m\u001b[0m\u001b[0;34m\u001b[0m\u001b[0m\n\u001b[1;32m    407\u001b[0m \u001b[0;34m\u001b[0m\u001b[0m\n",
      "\u001b[0;31mFileNotFoundError\u001b[0m: [Errno 2] No such file or directory: '/Users/ruofei.ouyang/workspace/services/fal-model-v2/lec1/home-credit-default-risk/features.pkl'"
     ]
    }
   ],
   "source": [
    "data_path = f\"{os.path.abspath('.')}/home-credit-default-risk/\"\n",
    "\n",
    "df_ft = pd.read_pickle(data_path + 'features.pkl')"
   ]
  },
  {
   "cell_type": "markdown",
   "metadata": {},
   "source": [
    "# 模型数据准备"
   ]
  },
  {
   "cell_type": "code",
   "execution_count": 61,
   "metadata": {},
   "outputs": [],
   "source": [
    "train, test = train_test_split(df_ft, test_size=0.3)"
   ]
  },
  {
   "cell_type": "markdown",
   "metadata": {},
   "source": [
    "### 根据缺失值占比，iv值，和高相关性进行变量筛选，赋值为：\n",
    "\n",
    "（1）empyt=0.5: 若变量的缺失值大于0.5被删除\n",
    "\n",
    "（2）iv=0.02: 若变量的iv值小于0.02被删除\n",
    "\n",
    "（3）corr=0.7: 若两个相关性高于0.7时，iv值低的变量被删除\n",
    "\n",
    "（4）return_drop=False: 若为True，function将返回被删去的变量列\n",
    "\n",
    "（5）exclude=None: 明确不被删去的列名"
   ]
  },
  {
   "cell_type": "code",
   "execution_count": 62,
   "metadata": {},
   "outputs": [
    {
     "name": "stderr",
     "output_type": "stream",
     "text": [
      "/opt/anaconda3/lib/python3.7/site-packages/toad/selection.py:332: RuntimeWarning: invalid value encountered in greater\n",
      "  ix, cn = np.where(np.triu(corr.values, 1) > threshold)\n"
     ]
    }
   ],
   "source": [
    "train_selected, dropped = toad.selection.select(train, target = 'TARGET', empty = 0.5, iv = 0.02, corr = 0.7, return_drop=True, exclude=['SK_ID_CURR'])"
   ]
  },
  {
   "cell_type": "code",
   "execution_count": 63,
   "metadata": {},
   "outputs": [],
   "source": [
    "train_selected.to_pickle(data_path + 'selected_train.pkl')"
   ]
  },
  {
   "cell_type": "code",
   "execution_count": 65,
   "metadata": {},
   "outputs": [
    {
     "data": {
      "text/plain": [
       "<toad.transform.Combiner at 0x7ffaaf3fdc90>"
      ]
     },
     "execution_count": 65,
     "metadata": {},
     "output_type": "execute_result"
    }
   ],
   "source": [
    "to_drop = ['SK_ID_CURR']\n",
    "c = toad.transform.Combiner()\n",
    "c.fit(train_selected.drop(to_drop, axis=1), y = 'TARGET', method = 'chi', min_samples = 0.05) #empty_separate = False\n",
    "\n"
   ]
  },
  {
   "cell_type": "code",
   "execution_count": 66,
   "metadata": {
    "collapsed": true,
    "jupyter": {
     "outputs_hidden": true
    }
   },
   "outputs": [
    {
     "name": "stdout",
     "output_type": "stream",
     "text": [
      "        SK_ID_CURR  TARGET  AMT_GOODS_PRICE  REGION_POPULATION_RELATIVE  DAYS_BIRTH  DAYS_EMPLOYED  DAYS_REGISTRATION  DAYS_ID_PUBLISH  REGION_RATING_CLIENT_W_CITY  REG_CITY_NOT_LIVE_CITY  REG_CITY_NOT_WORK_CITY  EXT_SOURCE_2  EXT_SOURCE_3  YEARS_BEGINEXPLUATATION_AVG  FLOORSMAX_MEDI  TOTALAREA_MODE  DAYS_LAST_PHONE_CHANGE  FLAG_DOCUMENT_3  AMT_REQ_CREDIT_BUREAU_YEAR  CODE_GENDER_M  NAME_INCOME_TYPE_Pensioner  NAME_INCOME_TYPE_Working  NAME_EDUCATION_TYPE_Higher education  OCCUPATION_TYPE_Laborers  OCCUPATION_TYPE_nan  EMERGENCYSTATE_MODE_No  PAYMENT_RATE  id_renewal_days_delay  b_DAYS_CREDIT  b_CREDIT_DAY_OVERDUE  b_DAYS_CREDIT_ENDDATE  b_AMT_CREDIT_MAX_OVERDUE  b_AMT_CREDIT_SUM  b_AMT_CREDIT_SUM_DEBT  b_AMT_CREDIT_SUM_LIMIT  b_AMT_CREDIT_SUM_OVERDUE  b_CREDIT_ACTIVE_Closed  b_CREDIT_TYPE_Car loan  b_CREDIT_TYPE_Credit card  b_CREDIT_TYPE_Microloan  b_CREDIT_TYPE_Mortgage  SK_ID_PREV    SK_DPD  SK_DPD_DEF  pos_cash_paid_late_12_cnt  i_NUM_INSTALMENT_VERSION  i_NUM_INSTALMENT_NUMBER  \\\n",
      "125406      245429       0         0.610118                    0.016406    0.301190       0.092078          -0.099822         0.275679                    -0.020586               -0.048048               -0.109312     -0.194908      0.843085                    -0.114123       -0.276150       -0.167871               -0.023216         0.097496                    0.022156      -0.158866                    0.079173                  0.190994                              0.108772                  0.288823             0.093686               -0.155812      0.441912               -0.05140       0.354166             -0.048225               0.210708                 -0.186579         -0.029249              -0.209593                0.412091                 -0.048225                0.391457               -0.026501                    0.21744                      0.0               -0.048225    0.186316 -0.046358   -0.044371                        0.0                 -0.134848                -0.033493   \n",
      "8155        109510       0        -0.366495                   -0.410334   -0.440745      -0.608958           0.164707         0.193847                    -0.536494               -0.048048               -0.109312     -1.045357     -0.756028                     0.031094       -0.107884       -0.167871               -0.023216         0.097496                    0.022156      -0.158866                    0.079173                 -0.245588                             -0.420860                 -0.074030            -0.236784               -0.155812      0.103977               -0.05140      -0.072445             -0.048225               0.210708                 -0.186579         -0.016002               0.060610                0.412091                 -0.048225                0.391457               -0.026501                    0.21744                      0.0               -0.048225   -0.132235 -0.046358   -0.044371                        0.0                 -0.233037                -0.033493   \n",
      "154053      278546       0         0.038650                    0.016406    0.301190       0.371651           0.075169         0.060654                    -0.020586               -0.048048               -0.109312      0.357743     -0.057383                    -0.191845       -0.487833       -0.167871                0.197836         0.097496                    0.022156       0.257654                    0.079173                  0.190994                              0.108772                 -0.074030            -0.236784               -0.155812      0.441912                0.24299       0.354166             -0.048225               0.210708                  0.048226         -0.029249               0.060610               -0.129269                 -0.048225                0.245092               -0.026501                    0.21744                      0.0               -0.048225    0.044851 -0.046358   -0.044371                        0.0                 -0.233037                -0.033493   \n",
      "\n",
      "        i_DAYS_ENTRY_PAYMENT  i_AMT_PAYMENT     i_DPD     i_DBD  p_AMT_ANNUITY  p_AMT_DOWN_PAYMENT  p_HOUR_APPR_PROCESS_START  p_RATE_DOWN_PAYMENT  p_SELLERPLACE_AREA  p_CNT_PAYMENT  p_NAME_CASH_LOAN_PURPOSE_Repairs  p_NAME_CONTRACT_STATUS_Approved  p_NAME_CONTRACT_STATUS_Refused  p_NAME_PAYMENT_TYPE_XNA  p_CODE_REJECT_REASON_LIMIT  p_CODE_REJECT_REASON_SCOFR  p_NAME_TYPE_SUITE_nan  p_NAME_CLIENT_TYPE_New  p_NAME_CLIENT_TYPE_Refreshed  p_NAME_GOODS_CATEGORY_Furniture  p_NAME_PORTFOLIO_POS  p_NAME_PRODUCT_TYPE_walk-in  p_NAME_SELLER_INDUSTRY_Connectivity  p_NAME_YIELD_GROUP_XNA  p_NAME_YIELD_GROUP_high  p_NAME_YIELD_GROUP_low_action  p_NAME_YIELD_GROUP_low_normal  p_PRODUCT_COMBINATION_Card Street  p_PRODUCT_COMBINATION_Cash Street: high  p_PRODUCT_COMBINATION_Cash X-Sell: high  p_PRODUCT_COMBINATION_Cash X-Sell: low  p_PRODUCT_COMBINATION_POS industry with interest  \n",
      "125406              0.020455      -0.099633 -0.185213 -0.136615      -0.102110            0.069418                  -0.145002             0.005038            0.282214       0.077306                               0.0                         0.496016                        0.467676                 0.243576                   -0.037185                         0.0               0.281274                0.075349                      0.085376                         0.061449              0.102814                    -0.111135                             0.053257                0.383810                 0.065650                       0.073290                       0.164891                          -0.063697                                -0.028915                                -0.033661                                0.083527                                         -0.065841  \n",
      "8155                0.020455      -0.099633 -0.185213 -0.136615      -0.102110           -0.401343                  -0.145002            -0.190995            0.117698      -0.063849                               0.0                        -0.150492                       -0.156498                -0.100375                   -0.037185                         0.0               0.086543                0.020690                      0.085376                        -0.349414              0.102814                    -0.111135                            -0.065479               -0.090837                -0.132787                       0.073290                      -0.241145                          -0.063697                                -0.028915                                -0.033661                                0.083527                                         -0.348529  \n",
      "154053              0.380882      -0.005122 -0.059335  0.027494       0.052388            0.152631                   0.088077             0.107559           -0.065119      -0.154697                               0.0                        -0.150492                       -0.156498                -0.100375                   -0.037185                         0.0              -0.092399                0.020690                      0.085376                        -0.349414             -0.072054                    -0.111135                            -0.065479               -0.090837                -0.132787                      -0.316556                      -0.241145                          -0.063697                                -0.028915                                -0.033661                                0.083527                                         -0.348529  \n"
     ]
    }
   ],
   "source": [
    "transer = toad.transform.WOETransformer()\n",
    "\n",
    "train_woe = transer.fit_transform(c.transform(train_selected), train_selected['TARGET'], exclude=to_drop+['TARGET'])\n",
    "\n",
    "print(train_woe.head(3))"
   ]
  },
  {
   "cell_type": "code",
   "execution_count": 69,
   "metadata": {},
   "outputs": [],
   "source": [
    "train_woe.to_pickle(data_path + 'train_woe.pkl')"
   ]
  },
  {
   "cell_type": "code",
   "execution_count": 72,
   "metadata": {},
   "outputs": [],
   "source": [
    "test_woe = transer.transform(c.transform(test[train_selected.columns]))\n"
   ]
  },
  {
   "cell_type": "code",
   "execution_count": 73,
   "metadata": {},
   "outputs": [],
   "source": [
    "test_woe.to_pickle(data_path + 'test_woe.pkl')"
   ]
  },
  {
   "cell_type": "markdown",
   "metadata": {},
   "source": [
    "# 前向特征筛选"
   ]
  },
  {
   "cell_type": "code",
   "execution_count": 75,
   "metadata": {},
   "outputs": [
    {
     "name": "stdout",
     "output_type": "stream",
     "text": [
      "(215257, 6)\n"
     ]
    }
   ],
   "source": [
    "final_data = toad.selection.stepwise(train_woe, target = 'TARGET', estimator='lr', direction = 'forward', criterion = 'ks', exclude = to_drop)\n",
    "\n",
    "# 将选出的变量应用于test数据\n",
    "final_test = test_woe[final_data.columns]\n",
    "\n",
    "print(final_data.shape)\n"
   ]
  },
  {
   "cell_type": "code",
   "execution_count": 76,
   "metadata": {},
   "outputs": [],
   "source": [
    "final_data.to_pickle(data_path + 'final_data.pkl')"
   ]
  },
  {
   "cell_type": "code",
   "execution_count": null,
   "metadata": {},
   "outputs": [],
   "source": []
  }
 ],
 "metadata": {
  "kernelspec": {
   "display_name": "Python 3",
   "language": "python",
   "name": "python3"
  },
  "language_info": {
   "codemirror_mode": {
    "name": "ipython",
    "version": 3
   },
   "file_extension": ".py",
   "mimetype": "text/x-python",
   "name": "python",
   "nbconvert_exporter": "python",
   "pygments_lexer": "ipython3",
   "version": "3.6.9"
  }
 },
 "nbformat": 4,
 "nbformat_minor": 4
}
