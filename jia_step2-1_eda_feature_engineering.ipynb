{
 "cells": [
  {
   "cell_type": "markdown",
   "metadata": {},
   "source": [
    "## 特征工程"
   ]
  },
  {
   "cell_type": "code",
   "execution_count": 1,
   "metadata": {},
   "outputs": [],
   "source": [
    "%load_ext autoreload\n",
    "%autoreload 2\n",
    "\n",
    "import sys\n",
    "import os\n",
    "import numpy as np\n",
    "import pandas as pd \n",
    "import matplotlib.pyplot as plt\n",
    "from scipy.stats import chi2\n",
    "import statsmodels.discrete.discrete_model as dm_\n",
    "\n",
    "pd.set_option('display.max_rows', 500)\n",
    "pd.set_option('display.max_columns', 500)\n",
    "pd.set_option('display.width', 1000)\n",
    "\n",
    "sys.path.insert(0, os.path.abspath('../'))\n",
    "\n",
    "%matplotlib inline\n",
    "\n",
    "from lec1.preprocessor import *\n",
    "\n",
    "import toad"
   ]
  },
  {
   "cell_type": "code",
   "execution_count": 2,
   "metadata": {},
   "outputs": [],
   "source": [
    "data_path = f\"{os.path.abspath('.')}/home-credit-default-risk/\"\n",
    "application_train_orig, bureau_orig, bureau_balance_orig, credit_card_balance_orig, \\\n",
    "installment_payments_orig, pos_cash_balance_orig, previous_application_orig = load_data(data_path)"
   ]
  },
  {
   "cell_type": "markdown",
   "metadata": {},
   "source": [
    "# Application数据"
   ]
  },
  {
   "cell_type": "markdown",
   "metadata": {},
   "source": [
    "Value 365243 denotes infinity in DAYS variables in the datasets, therefore you can consider them NA values. Also XNA/XAP denote NA values.(https://www.kaggle.com/c/home-credit-default-risk/discussion/57247)"
   ]
  },
  {
   "cell_type": "code",
   "execution_count": 3,
   "metadata": {},
   "outputs": [],
   "source": [
    "application_train = application_train_orig.copy()"
   ]
  },
  {
   "cell_type": "code",
   "execution_count": 4,
   "metadata": {},
   "outputs": [
    {
     "data": {
      "text/plain": [
       "array([365243], dtype=int64)"
      ]
     },
     "execution_count": 4,
     "metadata": {},
     "output_type": "execute_result"
    }
   ],
   "source": [
    "application_train.loc[application_train['DAYS_EMPLOYED'] > 0]['DAYS_EMPLOYED'].unique()"
   ]
  },
  {
   "cell_type": "code",
   "execution_count": 5,
   "metadata": {},
   "outputs": [],
   "source": [
    "application_train['DAYS_EMPLOYED'].replace(365243, np.nan, inplace= True)"
   ]
  },
  {
   "cell_type": "code",
   "execution_count": 6,
   "metadata": {},
   "outputs": [
    {
     "name": "stdout",
     "output_type": "stream",
     "text": [
      "Categorical featrue values before label encoding ['Cash loans' 'Revolving loans']\n",
      "3 variable are label encoded\n",
      "Categorical featrue values after label encoding [0 1]\n"
     ]
    }
   ],
   "source": [
    "print('Categorical featrue values before label encoding', application_train['NAME_CONTRACT_TYPE'].unique())\n",
    "application_train = process_cat_feature(application_train)\n",
    "print('Categorical featrue values after label encoding',application_train['NAME_CONTRACT_TYPE'].unique())"
   ]
  },
  {
   "cell_type": "code",
   "execution_count": 7,
   "metadata": {},
   "outputs": [
    {
     "name": "stdout",
     "output_type": "stream",
     "text": [
      "Categorical featrue values before one-hot encoding: \n",
      " F      202448\n",
      "M      105059\n",
      "XNA         4\n",
      "Name: CODE_GENDER, dtype: int64\n",
      "Categorical featrue values after converting na value: \n",
      " F    202448\n",
      "M    105059\n",
      "Name: CODE_GENDER, dtype: int64\n",
      "The shape of dataset after One hot encoding: (307511, 255)\n",
      "Categorical featrue values after one-hot encoding: \n",
      "\n",
      "Column CODE_GENDER_F\n",
      "1    202448\n",
      "0    105063\n",
      "Name: CODE_GENDER_F, dtype: int64\n",
      "Column CODE_GENDER_M\n",
      "0    202452\n",
      "1    105059\n",
      "Name: CODE_GENDER_M, dtype: int64\n",
      "Column CODE_GENDER_nan\n",
      "0    307507\n",
      "1         4\n",
      "Name: CODE_GENDER_nan, dtype: int64\n"
     ]
    }
   ],
   "source": [
    "print('Categorical featrue values before one-hot encoding: \\n', application_train['CODE_GENDER'].value_counts())\n",
    "application_train['CODE_GENDER'].replace('XNA',np.nan, inplace=True)\n",
    "print('Categorical featrue values after converting na value: \\n', application_train['CODE_GENDER'].value_counts())\n",
    "application_train = one_hot_encoder(application_train)\n",
    "print('Categorical featrue values after one-hot encoding: \\n')\n",
    "for x in [y for y in application_train.columns if 'CODE_GENDER' in y]:\n",
    "    print(f'Column {x}')\n",
    "    print(application_train[x].value_counts())\n",
    "#     application_train[[x for x in application_train.columns if 'CODE_GENDER' in x]].info()"
   ]
  },
  {
   "cell_type": "code",
   "execution_count": 8,
   "metadata": {},
   "outputs": [
    {
     "name": "stdout",
     "output_type": "stream",
     "text": [
      "3 variable are label encoded\n",
      "The shape of dataset after One hot encoding: (307511, 253)\n"
     ]
    }
   ],
   "source": [
    "application_train_cleaned = application_cleaning(application_train_orig)\n",
    "application_train_preprocessed = process_cat_feature(application_train_cleaned)\n",
    "application_train_preprocessed = one_hot_encoder(application_train_preprocessed)\n",
    "application_train_preprocessed.to_csv(data_path + 'application_train_processed.csv', index=False)"
   ]
  },
  {
   "cell_type": "code",
   "execution_count": 9,
   "metadata": {},
   "outputs": [
    {
     "name": "stdout",
     "output_type": "stream",
     "text": [
      "top 10 features with high iv\n"
     ]
    },
    {
     "data": {
      "text/html": [
       "<div>\n",
       "<style scoped>\n",
       "    .dataframe tbody tr th:only-of-type {\n",
       "        vertical-align: middle;\n",
       "    }\n",
       "\n",
       "    .dataframe tbody tr th {\n",
       "        vertical-align: top;\n",
       "    }\n",
       "\n",
       "    .dataframe thead th {\n",
       "        text-align: right;\n",
       "    }\n",
       "</style>\n",
       "<table border=\"1\" class=\"dataframe\">\n",
       "  <thead>\n",
       "    <tr style=\"text-align: right;\">\n",
       "      <th></th>\n",
       "      <th>iv</th>\n",
       "      <th>gini</th>\n",
       "      <th>entropy</th>\n",
       "      <th>unique</th>\n",
       "    </tr>\n",
       "  </thead>\n",
       "  <tbody>\n",
       "    <tr>\n",
       "      <th>EXT_SOURCE_3</th>\n",
       "      <td>0.332758</td>\n",
       "      <td>NaN</td>\n",
       "      <td>NaN</td>\n",
       "      <td>815.0</td>\n",
       "    </tr>\n",
       "    <tr>\n",
       "      <th>EXT_SOURCE_2</th>\n",
       "      <td>0.321745</td>\n",
       "      <td>NaN</td>\n",
       "      <td>NaN</td>\n",
       "      <td>119832.0</td>\n",
       "    </tr>\n",
       "    <tr>\n",
       "      <th>EXT_SOURCE_1</th>\n",
       "      <td>0.154901</td>\n",
       "      <td>NaN</td>\n",
       "      <td>NaN</td>\n",
       "      <td>114585.0</td>\n",
       "    </tr>\n",
       "    <tr>\n",
       "      <th>DAYS_EMPLOYED</th>\n",
       "      <td>0.115184</td>\n",
       "      <td>NaN</td>\n",
       "      <td>NaN</td>\n",
       "      <td>12574.0</td>\n",
       "    </tr>\n",
       "    <tr>\n",
       "      <th>AMT_GOODS_PRICE</th>\n",
       "      <td>0.101163</td>\n",
       "      <td>NaN</td>\n",
       "      <td>NaN</td>\n",
       "      <td>1003.0</td>\n",
       "    </tr>\n",
       "    <tr>\n",
       "      <th>DAYS_BIRTH</th>\n",
       "      <td>0.090051</td>\n",
       "      <td>NaN</td>\n",
       "      <td>NaN</td>\n",
       "      <td>17460.0</td>\n",
       "    </tr>\n",
       "    <tr>\n",
       "      <th>AMT_CREDIT</th>\n",
       "      <td>0.068424</td>\n",
       "      <td>NaN</td>\n",
       "      <td>NaN</td>\n",
       "      <td>5603.0</td>\n",
       "    </tr>\n",
       "    <tr>\n",
       "      <th>DAYS_LAST_PHONE_CHANGE</th>\n",
       "      <td>0.053347</td>\n",
       "      <td>NaN</td>\n",
       "      <td>NaN</td>\n",
       "      <td>3773.0</td>\n",
       "    </tr>\n",
       "    <tr>\n",
       "      <th>REGION_RATING_CLIENT_W_CITY</th>\n",
       "      <td>0.051201</td>\n",
       "      <td>NaN</td>\n",
       "      <td>NaN</td>\n",
       "      <td>3.0</td>\n",
       "    </tr>\n",
       "    <tr>\n",
       "      <th>NAME_EDUCATION_TYPE_Higher education</th>\n",
       "      <td>0.049214</td>\n",
       "      <td>NaN</td>\n",
       "      <td>NaN</td>\n",
       "      <td>2.0</td>\n",
       "    </tr>\n",
       "  </tbody>\n",
       "</table>\n",
       "</div>"
      ],
      "text/plain": [
       "                                            iv  gini  entropy    unique\n",
       "EXT_SOURCE_3                          0.332758   NaN      NaN     815.0\n",
       "EXT_SOURCE_2                          0.321745   NaN      NaN  119832.0\n",
       "EXT_SOURCE_1                          0.154901   NaN      NaN  114585.0\n",
       "DAYS_EMPLOYED                         0.115184   NaN      NaN   12574.0\n",
       "AMT_GOODS_PRICE                       0.101163   NaN      NaN    1003.0\n",
       "DAYS_BIRTH                            0.090051   NaN      NaN   17460.0\n",
       "AMT_CREDIT                            0.068424   NaN      NaN    5603.0\n",
       "DAYS_LAST_PHONE_CHANGE                0.053347   NaN      NaN    3773.0\n",
       "REGION_RATING_CLIENT_W_CITY           0.051201   NaN      NaN       3.0\n",
       "NAME_EDUCATION_TYPE_Higher education  0.049214   NaN      NaN       2.0"
      ]
     },
     "metadata": {},
     "output_type": "display_data"
    },
    {
     "name": "stdout",
     "output_type": "stream",
     "text": [
      "last 10 features with low iv\n"
     ]
    },
    {
     "data": {
      "text/html": [
       "<div>\n",
       "<style scoped>\n",
       "    .dataframe tbody tr th:only-of-type {\n",
       "        vertical-align: middle;\n",
       "    }\n",
       "\n",
       "    .dataframe tbody tr th {\n",
       "        vertical-align: top;\n",
       "    }\n",
       "\n",
       "    .dataframe thead th {\n",
       "        text-align: right;\n",
       "    }\n",
       "</style>\n",
       "<table border=\"1\" class=\"dataframe\">\n",
       "  <thead>\n",
       "    <tr style=\"text-align: right;\">\n",
       "      <th></th>\n",
       "      <th>iv</th>\n",
       "      <th>gini</th>\n",
       "      <th>entropy</th>\n",
       "      <th>unique</th>\n",
       "    </tr>\n",
       "  </thead>\n",
       "  <tbody>\n",
       "    <tr>\n",
       "      <th>NAME_HOUSING_TYPE_Co-op apartment</th>\n",
       "      <td>1.325325e-06</td>\n",
       "      <td>NaN</td>\n",
       "      <td>NaN</td>\n",
       "      <td>2.0</td>\n",
       "    </tr>\n",
       "    <tr>\n",
       "      <th>ORGANIZATION_TYPE_Legal Services</th>\n",
       "      <td>7.592236e-07</td>\n",
       "      <td>NaN</td>\n",
       "      <td>NaN</td>\n",
       "      <td>2.0</td>\n",
       "    </tr>\n",
       "    <tr>\n",
       "      <th>NAME_INCOME_TYPE_Businessman</th>\n",
       "      <td>6.386774e-07</td>\n",
       "      <td>NaN</td>\n",
       "      <td>NaN</td>\n",
       "      <td>2.0</td>\n",
       "    </tr>\n",
       "    <tr>\n",
       "      <th>FLAG_DOCUMENT_20</th>\n",
       "      <td>6.161632e-07</td>\n",
       "      <td>NaN</td>\n",
       "      <td>NaN</td>\n",
       "      <td>2.0</td>\n",
       "    </tr>\n",
       "    <tr>\n",
       "      <th>ORGANIZATION_TYPE_Advertising</th>\n",
       "      <td>1.850903e-07</td>\n",
       "      <td>NaN</td>\n",
       "      <td>NaN</td>\n",
       "      <td>2.0</td>\n",
       "    </tr>\n",
       "    <tr>\n",
       "      <th>ORGANIZATION_TYPE_Industry: type 7</th>\n",
       "      <td>1.194622e-07</td>\n",
       "      <td>NaN</td>\n",
       "      <td>NaN</td>\n",
       "      <td>2.0</td>\n",
       "    </tr>\n",
       "    <tr>\n",
       "      <th>NAME_EDUCATION_TYPE_nan</th>\n",
       "      <td>0.000000e+00</td>\n",
       "      <td>NaN</td>\n",
       "      <td>NaN</td>\n",
       "      <td>1.0</td>\n",
       "    </tr>\n",
       "    <tr>\n",
       "      <th>NAME_INCOME_TYPE_nan</th>\n",
       "      <td>0.000000e+00</td>\n",
       "      <td>NaN</td>\n",
       "      <td>NaN</td>\n",
       "      <td>1.0</td>\n",
       "    </tr>\n",
       "    <tr>\n",
       "      <th>NAME_HOUSING_TYPE_nan</th>\n",
       "      <td>0.000000e+00</td>\n",
       "      <td>NaN</td>\n",
       "      <td>NaN</td>\n",
       "      <td>1.0</td>\n",
       "    </tr>\n",
       "    <tr>\n",
       "      <th>WEEKDAY_APPR_PROCESS_START_nan</th>\n",
       "      <td>0.000000e+00</td>\n",
       "      <td>NaN</td>\n",
       "      <td>NaN</td>\n",
       "      <td>1.0</td>\n",
       "    </tr>\n",
       "  </tbody>\n",
       "</table>\n",
       "</div>"
      ],
      "text/plain": [
       "                                              iv  gini  entropy  unique\n",
       "NAME_HOUSING_TYPE_Co-op apartment   1.325325e-06   NaN      NaN     2.0\n",
       "ORGANIZATION_TYPE_Legal Services    7.592236e-07   NaN      NaN     2.0\n",
       "NAME_INCOME_TYPE_Businessman        6.386774e-07   NaN      NaN     2.0\n",
       "FLAG_DOCUMENT_20                    6.161632e-07   NaN      NaN     2.0\n",
       "ORGANIZATION_TYPE_Advertising       1.850903e-07   NaN      NaN     2.0\n",
       "ORGANIZATION_TYPE_Industry: type 7  1.194622e-07   NaN      NaN     2.0\n",
       "NAME_EDUCATION_TYPE_nan             0.000000e+00   NaN      NaN     1.0\n",
       "NAME_INCOME_TYPE_nan                0.000000e+00   NaN      NaN     1.0\n",
       "NAME_HOUSING_TYPE_nan               0.000000e+00   NaN      NaN     1.0\n",
       "WEEKDAY_APPR_PROCESS_START_nan      0.000000e+00   NaN      NaN     1.0"
      ]
     },
     "metadata": {},
     "output_type": "display_data"
    }
   ],
   "source": [
    "print('top 10 features with high iv')\n",
    "display(toad.quality(application_train_preprocessed.drop('SK_ID_CURR',axis=1),'TARGET',iv_only=True)[:10])\n",
    "print('last 10 features with low iv')\n",
    "display(toad.quality(application_train_preprocessed.drop('SK_ID_CURR',axis=1),'TARGET',iv_only=True)[-10:])\n"
   ]
  },
  {
   "cell_type": "markdown",
   "metadata": {},
   "source": [
    "# 其他数据"
   ]
  },
  {
   "cell_type": "code",
   "execution_count": 10,
   "metadata": {},
   "outputs": [],
   "source": [
    "bureau = bureau_orig.copy()\n",
    "bureau_balance = bureau_balance_orig.copy()\n",
    "credit_card_balance = credit_card_balance_orig.copy()\n",
    "installment_payments = installment_payments_orig.copy()\n",
    "pos_cash_balance = pos_cash_balance_orig.copy()\n",
    "previous_application = previous_application_orig.copy()"
   ]
  },
  {
   "cell_type": "code",
   "execution_count": null,
   "metadata": {},
   "outputs": [
    {
     "name": "stderr",
     "output_type": "stream",
     "text": [
      "D:\\fal风险控制模型建模\\资料\\「风控模型」学习资料（week1）\\fal-model-code\\lec1\\preprocessor.py:41: SettingWithCopyWarning: \n",
      "A value is trying to be set on a copy of a slice from a DataFrame\n",
      "\n",
      "See the caveats in the documentation: https://pandas.pydata.org/pandas-docs/stable/user_guide/indexing.html#returning-a-view-versus-a-copy\n",
      "  df['DAYS_CREDIT_ENDDATE'][df['DAYS_CREDIT_ENDDATE'] < -40000] = np.nan\n",
      "D:\\fal风险控制模型建模\\资料\\「风控模型」学习资料（week1）\\fal-model-code\\lec1\\preprocessor.py:42: SettingWithCopyWarning: \n",
      "A value is trying to be set on a copy of a slice from a DataFrame\n",
      "\n",
      "See the caveats in the documentation: https://pandas.pydata.org/pandas-docs/stable/user_guide/indexing.html#returning-a-view-versus-a-copy\n",
      "  df['DAYS_CREDIT_UPDATE'][df['DAYS_CREDIT_UPDATE'] < -40000] = np.nan\n",
      "D:\\fal风险控制模型建模\\资料\\「风控模型」学习资料（week1）\\fal-model-code\\lec1\\preprocessor.py:43: SettingWithCopyWarning: \n",
      "A value is trying to be set on a copy of a slice from a DataFrame\n",
      "\n",
      "See the caveats in the documentation: https://pandas.pydata.org/pandas-docs/stable/user_guide/indexing.html#returning-a-view-versus-a-copy\n",
      "  df['DAYS_ENDDATE_FACT'][df['DAYS_ENDDATE_FACT'] < -40000] = np.nan\n"
     ]
    },
    {
     "name": "stdout",
     "output_type": "stream",
     "text": [
      "0 variable are label encoded\n",
      "The shape of dataset after One hot encoding: (1716428, 40)\n"
     ]
    }
   ],
   "source": [
    "bureau_cleaned = bureau_cleaning(bureau)\n",
    "bureau_preprocessed = process_cat_feature(bureau_cleaned)\n",
    "bureau_preprocessed = one_hot_encoder(bureau_preprocessed)\n",
    "bureau_preprocessed.to_csv(data_path + 'bureau_preprocessed.csv', index=False)"
   ]
  },
  {
   "cell_type": "code",
   "execution_count": null,
   "metadata": {},
   "outputs": [],
   "source": [
    "bureau_balance_cleaned = bureau_balance_cleaning(bureau_balance)\n",
    "bureau_balance_preprocessed = process_cat_feature(bureau_balance_cleaned)\n",
    "bureau_balance_preprocessed = one_hot_encoder(bureau_balance_preprocessed)\n",
    "bureau_balance_preprocessed.to_csv(data_path + 'bureau_balance_preprocessed.csv', index=False)"
   ]
  },
  {
   "cell_type": "code",
   "execution_count": 13,
   "metadata": {},
   "outputs": [
    {
     "name": "stderr",
     "output_type": "stream",
     "text": [
      "/Users/chenlong.jia/Documents/project/home_credit/services/jia_home_credit/preprocessor.py:70: SettingWithCopyWarning: \n",
      "A value is trying to be set on a copy of a slice from a DataFrame\n",
      "\n",
      "See the caveats in the documentation: https://pandas.pydata.org/pandas-docs/stable/user_guide/indexing.html#returning-a-view-versus-a-copy\n",
      "  df['AMT_DRAWINGS_ATM_CURRENT'][df['AMT_DRAWINGS_ATM_CURRENT'] < 0] = np.nan\n",
      "/Users/chenlong.jia/Documents/project/home_credit/services/jia_home_credit/preprocessor.py:71: SettingWithCopyWarning: \n",
      "A value is trying to be set on a copy of a slice from a DataFrame\n",
      "\n",
      "See the caveats in the documentation: https://pandas.pydata.org/pandas-docs/stable/user_guide/indexing.html#returning-a-view-versus-a-copy\n",
      "  df['AMT_DRAWINGS_CURRENT'][df['AMT_DRAWINGS_CURRENT'] < 0] = np.nan\n"
     ]
    },
    {
     "name": "stdout",
     "output_type": "stream",
     "text": [
      "0 variable are label encoded\n",
      "The shape of dataset after One hot encoding: (3840312, 30)\n"
     ]
    }
   ],
   "source": [
    "credit_card_balance_cleaned = credit_card_cleaning(credit_card_balance)\n",
    "credit_card_balance_preprocessed = process_cat_feature(credit_card_balance_cleaned)\n",
    "credit_card_balance_preprocessed = one_hot_encoder(credit_card_balance_preprocessed)\n",
    "credit_card_balance_preprocessed.to_csv(data_path + 'credit_card_balance_preprocessed.csv', index=False)"
   ]
  },
  {
   "cell_type": "code",
   "execution_count": 14,
   "metadata": {},
   "outputs": [
    {
     "name": "stdout",
     "output_type": "stream",
     "text": [
      "0 variable are label encoded\n",
      "The shape of dataset after One hot encoding: (13605401, 8)\n"
     ]
    }
   ],
   "source": [
    "installment_payments_cleaned = installment_payment_cleaning(installment_payments)\n",
    "installment_payments_preprocessed = process_cat_feature(installment_payments_cleaned)\n",
    "installment_payments_preprocessed = one_hot_encoder(installment_payments_preprocessed)\n",
    "installment_payments_preprocessed.to_csv(data_path + 'installment_payments_preprocessed.csv', index=False)"
   ]
  },
  {
   "cell_type": "code",
   "execution_count": 15,
   "metadata": {},
   "outputs": [
    {
     "name": "stdout",
     "output_type": "stream",
     "text": [
      "0 variable are label encoded\n",
      "The shape of dataset after One hot encoding: (10001358, 17)\n"
     ]
    }
   ],
   "source": [
    "pos_cash_balance_cleaned = pos_cash_cleaning(pos_cash_balance)\n",
    "pos_cash_balance_preprocessed = process_cat_feature(pos_cash_balance_cleaned)\n",
    "pos_cash_balance_preprocessed = one_hot_encoder(pos_cash_balance_preprocessed)\n",
    "pos_cash_balance_preprocessed.to_csv(data_path + 'pos_cash_balance_preprocessed.csv', index=False)"
   ]
  },
  {
   "cell_type": "code",
   "execution_count": 16,
   "metadata": {},
   "outputs": [
    {
     "name": "stdout",
     "output_type": "stream",
     "text": [
      "1 variable are label encoded\n",
      "The shape of dataset after One hot encoding: (1670214, 178)\n"
     ]
    }
   ],
   "source": [
    "previous_application_cleaned = prev_application_cleaning(previous_application)\n",
    "previous_application_preprocessed = process_cat_feature(previous_application_cleaned)\n",
    "previous_application_preprocessed = one_hot_encoder(previous_application_preprocessed)\n",
    "previous_application_preprocessed.to_csv(data_path + 'previous_application_preprocessed.csv', index=False)"
   ]
  },
  {
   "cell_type": "markdown",
   "metadata": {},
   "source": [
    "# categorical feature will be encoded\n"
   ]
  },
  {
   "cell_type": "code",
   "execution_count": null,
   "metadata": {},
   "outputs": [],
   "source": []
  }
 ],
 "metadata": {
  "kernelspec": {
   "display_name": "Python 3",
   "language": "python",
   "name": "python3"
  },
  "language_info": {
   "codemirror_mode": {
    "name": "ipython",
    "version": 3
   },
   "file_extension": ".py",
   "mimetype": "text/x-python",
   "name": "python",
   "nbconvert_exporter": "python",
   "pygments_lexer": "ipython3",
   "version": "3.7.4"
  }
 },
 "nbformat": 4,
 "nbformat_minor": 4
}
